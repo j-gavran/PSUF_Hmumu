{
 "cells": [
  {
   "cell_type": "markdown",
   "id": "273eaafe-ae0d-46bb-bede-666f4430021f",
   "metadata": {},
   "source": [
    "# Modeliranje 1-D porazdelitve: razpadi Higgsovega bozona"
   ]
  },
  {
   "cell_type": "markdown",
   "id": "70425866-e189-4745-a4b9-4bc8076e094e",
   "metadata": {},
   "source": [
    "Repozitorij naloge: https://github.com/j-gavran/PSUF_Hmumu"
   ]
  },
  {
   "cell_type": "markdown",
   "id": "a11eaa56-03a6-43bc-b461-0bc420ccbe49",
   "metadata": {},
   "source": [
    "## 1. naloga: Praktikum strojnega učenja v fiziki 2024/25"
   ]
  },
  {
   "cell_type": "markdown",
   "id": "bc6f9182-a383-40f4-8297-2cd7121cb9e8",
   "metadata": {},
   "source": [
    "**predavatelj**: [prof. dr. Borut Paul Kerševan](mailto:borut.kersevan@ijs.si)  \n",
    "**asistent**: [Jan Gavranovič](mailto:jan.gavranovic@ijs.si)"
   ]
  },
  {
   "cell_type": "markdown",
   "id": "91d8d5cf-3437-4385-845a-6b661f981a26",
   "metadata": {},
   "source": [
    "# Metode jeder (kernel methods)\n",
    "\n",
    "- Imamo $N$ vrednosti neke funkcije $y_n = f(\\vec{x}_n)$ za $n=1:N$, kjer je $f$ neznana funkcija.\n",
    "- Naša podatkovna (učna) množica je torej $\\mathcal{D}=\\{(\\vec{x}_n, y_n)\\}$.\n",
    "- Če želimo napovedati vrednosti $f$ v novi točki $\\vec{x}_*$, moramo primerjati $\\vec{x}_*$ z vsemi $N$ vrednostmi $\\{\\vec{x}_n\\}$, pri tem je $f(\\vec{x}_*)$ neka utežena kombinacija vrednosti $\\{f(\\vec{x}_n)\\}$.\n",
    "- Uteži so določene kako podobne so si vrednosti $\\vec{x}_*$ in $\\vec{x}_n$.\n",
    "- To podobnost izračuna jedrna funkcija $\\mathcal{K}(\\vec{x}_n, \\vec{x}_*) \\geq 0$."
   ]
  },
  {
   "cell_type": "markdown",
   "id": "6cdb542a-e312-4eba-b5c9-4145c8437a07",
   "metadata": {},
   "source": [
    "## Mercerjeva jedra\n",
    "\n",
    "- Potrebujemo način kako povedati ali sta dva vhoda vektorja podobna.\n",
    "- Če vemo, da je $\\vec{x}_i$ podoben $\\vec{x}_j$, potem morata biti napovedani vrednosti modela $f(\\vec{x}_i)$ in $f(\\vec{x}_j)$ tudi podobni.\n",
    "- Da bomo lahko povedali kaj je podbno, definiramo jedrne funkcije (*kernel functions*).\n",
    "- Zanimamo se za Mercerjeva jedra, tudi poziitvno definitna jedra. To so simetrične funkcije $\\mathcal{K}: \\mathcal{X} \\times \\mathcal{X}\\rightarrow \\mathbb{R}^+$ za katere velja:\n",
    "$$\n",
    "\\sum_{i=1}^N \\sum_{j=1}^N \\mathcal{K}(\\vec{x}_i, \\vec{x}_j)c_i c_j \\geq 0 \n",
    "$$\n",
    "za množico $N$ točk $\\vec{x_i} \\in \\mathcal{X}$ in za neko izbiro $c_i \\in \\mathbb{R}$."
   ]
  },
  {
   "cell_type": "markdown",
   "id": "67f9c4ab-be3b-4287-adb2-530af1ee3100",
   "metadata": {},
   "source": [
    "- Pogoj lahko razumemo v matrični obliki. Za $N$ podatkovni točk definiramo $N \\times N$ podobnostno matriko:\n",
    "$$\n",
    "K = \n",
    "\\begin{bmatrix}\n",
    "    \\mathcal{K}(\\vec{x}_1, \\vec{x}_1) & \\mathcal{K}(\\vec{x}_1, \\vec{x}_2) & \\cdots & \\mathcal{K}(\\vec{x}_1, \\vec{x}_N) \\\\\n",
    "    \\mathcal{K}(\\vec{x}_2, \\vec{x}_1) & \\mathcal{K}(\\vec{x}_2, \\vec{x}_2) & \\cdots & \\mathcal{K}(\\vec{x}_2, \\vec{x}_N) \\\\\n",
    "    \\vdots          & \\vdots          & \\ddots & \\vdots          \\\\\n",
    "    \\mathcal{K}(\\vec{x}_N, \\vec{x}_1) & \\mathcal{K}(\\vec{x}_N, \\vec{x}_2) & \\cdots & \\mathcal{K}(\\vec{x}_N, \\vec{x}_N)\n",
    "\\end{bmatrix} \\>.\n",
    "$$\n",
    "- $\\mathcal{K}$ je Mercerjevo jedro, če je matrika $K$ pozitivno definitna za katerikoli množico vhodnih vektorjev $\\{ \\vec{x}_i\\}_{i=1}^N$.\n",
    "- Najbolj pogosto jedro je RBF (*radial basis function kernel*):\n",
    "$$\n",
    "\\mathcal{K}(\\vec{x}, \\vec{x}^\\prime) = \\sigma^2 \\exp \\left( \\frac{||\\vec{x} - \\vec{x}^\\prime||^2}{2\\ell^2} \\right) \\>,\n",
    "$$\n",
    "kjer je $\\ell$ karakteristična dolžina (*length scale*) jedra in $\\sigma^2$ skala (*scale*). Paramter $\\ell$ je razdalja na kateri pričakujemo, da bodo naše razlike vektorjev še pomembne. Temu parametru se reče tudi *bandwidth*.\n",
    "- RBF jedro meri podobnost med dvema vektorjema v $\\mathbb{R}^D$ s (skalirano) evklidsko razdaljo.\n",
    "- Če je vrednost $\\mathcal{K}(\\vec{x}, \\vec{x}^\\prime)$ velika, potem sta si vhodni vrednosti podobni in pričakujemo $f(\\vec{x}) \\approx f(\\vec{x}^\\prime)$.\n",
    "- Informacija o $f(\\vec{x})$ nam torej pomaga napovedati novo vrednost $f(\\vec{x}^\\prime)$ za vse $\\vec{x}^\\prime$, ki so korelirani z $\\vec{x}$ in za katere je vrednost $\\mathcal{K}$ velika.\n",
    "- Glej https://www.cs.toronto.edu/~duvenaud/cookbook/. "
   ]
  },
  {
   "cell_type": "markdown",
   "id": "a4c3de71-e302-4e09-8180-2e8703a977a1",
   "metadata": {},
   "source": [
    "## Mercerjev teorem\n",
    "\n",
    "- Vsako pozitivno definitvno matriko $K$ lahko razstavimo na $K=U^\\top \\Lambda U$, kjer je $\\Lambda$ diagonalna matrika lastnih rednosti $\\lambda_i>0$ in $U$ matrika lastnih vektorjev.\n",
    "- Matriko $K$ lahko zapišemo po elementih $(i,j)$ kot:\n",
    "$$\n",
    "k_{ij} = (\\Lambda^{\\frac{1}{2}} \\vec{u}_i)^\\top (\\Lambda^{\\frac{1}{2}} \\vec{u}_j) \\>,\n",
    "$$\n",
    "kjer sta $\\vec{u}_{i,j}$ stolpca $i,j$ matrike $U$.\n",
    "- Definiramo $\\vec{\\phi}(\\vec{x}_i)=\\Lambda^{\\frac{1}{2}} \\vec{u}_i$ s čemer lahko sedaj zapišemo elemente matrike kot\n",
    "$$\n",
    "k_{ij} = \\vec{\\phi}(\\vec{x}_i)^\\top \\vec{\\phi}(\\vec{x}_j) = \\sum_m \\phi_m(\\vec{x}_i)\\phi_m(\\vec{x}_j) \\>.\n",
    "$$\n",
    "- Vidimo, da lahko izračunamo elemente jedrne matrike $K$ s skalarnim produktom nekih (*feature*) vektorjev, ki so implicitno definirani z lastnimi vektorji te matrike.\n",
    "- Rezultat je poznan pod imenom Mercerjev teorem."
   ]
  },
  {
   "cell_type": "markdown",
   "id": "b43a6219-deb8-4741-8fb3-89d25ecb9843",
   "metadata": {},
   "source": [
    "#### Primer kvadratičnega jedra\n",
    "\n",
    "- Zamislimo si jedro oblike $\\mathcal{K}(\\vec{x}, \\vec{x}^\\prime)=(\\vec{x}^\\top \\vec{x}^\\prime)^2$.\n",
    "- V dveh dimenzijah imamo:\n",
    "$$\n",
    "\\mathcal{K}(\\vec{x}, \\vec{x}^\\prime) = (x_1x_2^\\prime + x_2x_2^\\prime)^2 = x_1^2x_1^{\\prime 2} + 2 x_1x_2x_1^\\prime x_2^\\prime + x_2^2x_2^{\\prime 2} \\>.\n",
    "$$\n",
    "- To lahko zapišemo kot $\\mathcal{K}(\\vec{x}, \\vec{x}^\\prime)=\\vec{\\phi}(\\vec{x})^\\top \\vec{\\phi}(\\vec{x})$, če definiramo\n",
    "$$\n",
    "\\vec{\\phi}(x_1,x_2) = [x_1^2, \\sqrt{2}x_1x_2, x_2^2] \\in \\mathbb{R}^3 \\>.\n",
    "$$\n",
    "- S tem smo zapisali (*embed*) 2d vhodne podatke v 3d (*feature*) prostor $\\vec{\\phi}(\\vec{x})$."
   ]
  },
  {
   "cell_type": "markdown",
   "id": "c1dabf65-dd95-4cd6-bfa3-36d05d8eae76",
   "metadata": {},
   "source": [
    "#### Primer jedra RBF\n",
    "\n",
    "- V primeru jedra RBF imamo vektorje $\\vec{\\phi}$ v [neskončno](https://pages.cs.wisc.edu/~matthewb/pages/notes/pdf/svms/RBFKernel.pdf) dimenzionalnem prostoru $\\vec{\\phi}_{\\text{RBF}}(\\vec{x}):\\mathbb{R}^n\\rightarrow \\mathbb{R}^\\infty$.\n",
    "- RBF lahko zapišemo z razvojem:\n",
    "\n",
    "$$\n",
    "k_{ij} = \\sigma^2 \\phi(x_i)^\\top \\phi(x_j) = \\sigma^2 \\exp \\left\\{ - \\frac{1}{2\\ell^2}(x_i^2 + x_j^2)\\right\\} \\sum_{k=0}^q \\left( \\frac{x_ix_j}{\\ell^2} \\right)^k \\frac{1}{k!} \\>.\n",
    "$$\n"
   ]
  },
  {
   "cell_type": "code",
   "execution_count": 1,
   "id": "cc15fcb4-f3c8-43dd-87b1-3e99e293be4f",
   "metadata": {},
   "outputs": [],
   "source": [
    "import math\n",
    "\n",
    "import numpy as np\n",
    "import matplotlib.pyplot as plt\n",
    "from mpl_toolkits.axes_grid1 import make_axes_locatable"
   ]
  },
  {
   "cell_type": "code",
   "execution_count": 2,
   "id": "d3c3f10a-586b-43b5-8b79-a06a5418704c",
   "metadata": {},
   "outputs": [],
   "source": [
    "# https://andrewcharlesjones.github.io/journal/rbf.html\n",
    "\n",
    "def finite_RBF(x, y, q, sigma2, length_scale):    \n",
    "    # constant term\n",
    "    C = sigma2 * np.exp(-0.5 * (x**2 + y**2) / length_scale**2)\n",
    "\n",
    "    # interaction between x and y\n",
    "    qsum = 0.0\n",
    "    for k in range(q):\n",
    "        qsum += (x * y / length_scale**2) ** k / math.factorial(k)\n",
    "\n",
    "    return C * qsum\n",
    "\n",
    "\n",
    "def get_K(x, q, sigma2=1.0, length_scale=1.0):\n",
    "    # define matrix of zeros to fill\n",
    "    K = np.zeros((n, n))\n",
    "    \n",
    "    for i in range(len(x)):\n",
    "        for j in range(i + 1):\n",
    "            # get k_ij element\n",
    "            k = finite_RBF(x[i], x[j], q, sigma2, length_scale)\n",
    "            # K is symmetric \n",
    "            K[i, j] = k\n",
    "            K[j, i] = k\n",
    "\n",
    "    return K"
   ]
  },
  {
   "cell_type": "code",
   "execution_count": 3,
   "id": "d94e3c04-a56d-47c9-b56f-2d537fb834cb",
   "metadata": {},
   "outputs": [],
   "source": [
    "n = 100 # vector dimension\n",
    "q = 32 # number of terms in Taylor expension of exp\n",
    "sigma2, length_scale = 1.0, 1.0 # RBF parameters\n",
    "x = np.linspace(-3, 3, n) # dummy vector"
   ]
  },
  {
   "cell_type": "code",
   "execution_count": 4,
   "id": "5257bef0-5ea4-4835-b750-97683ffdea0a",
   "metadata": {},
   "outputs": [],
   "source": [
    "K = get_K(x, q, sigma2, length_scale)"
   ]
  },
  {
   "cell_type": "code",
   "execution_count": 5,
   "id": "831b47f3-4846-40d1-9414-93bb46b7217b",
   "metadata": {},
   "outputs": [
    {
     "data": {
      "image/png": "[encoded data removed]",
      "text/plain": [
       "<Figure size 800x800 with 2 Axes>"
      ]
     },
     "metadata": {},
     "output_type": "display_data"
    }
   ],
   "source": [
    "fig, ax = plt.subplots(figsize=(8, 8))\n",
    "\n",
    "im = ax.matshow(K)\n",
    "\n",
    "divider = make_axes_locatable(ax)\n",
    "cax = divider.append_axes('right', size='5%', pad=0.2)\n",
    "fig.colorbar(im, cax=cax, orientation='vertical')\n",
    "\n",
    "ax.set_xticks([])\n",
    "ax.set_yticks([])\n",
    "\n",
    "ax.set_xlabel(r\"$x$\", fontsize=20)\n",
    "ax.set_ylabel(r\"$x^\\prime$\", fontsize=20)\n",
    "\n",
    "plt.tight_layout()"
   ]
  },
  {
   "cell_type": "code",
   "execution_count": null,
   "id": "24c7cff6-0172-463b-be0d-0cdfdd83bdc2",
   "metadata": {},
   "outputs": [],
   "source": []
  }
 ],
 "metadata": {
  "kernelspec": {
   "display_name": "Python 3 (ipykernel)",
   "language": "python",
   "name": "python3"
  },
  "language_info": {
   "codemirror_mode": {
    "name": "ipython",
    "version": 3
   },
   "file_extension": ".py",
   "mimetype": "text/x-python",
   "name": "python",
   "nbconvert_exporter": "python",
   "pygments_lexer": "ipython3",
   "version": "3.12.4"
  }
 },
 "nbformat": 4,
 "nbformat_minor": 5
}
