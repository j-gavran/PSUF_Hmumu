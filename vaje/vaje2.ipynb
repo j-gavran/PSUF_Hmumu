{
 "cells": [
  {
   "cell_type": "markdown",
   "id": "273eaafe-ae0d-46bb-bede-666f4430021f",
   "metadata": {},
   "source": [
    "# Modeliranje 1-D porazdelitve: razpadi Higgsovega bozona"
   ]
  },
  {
   "cell_type": "markdown",
   "id": "70425866-e189-4745-a4b9-4bc8076e094e",
   "metadata": {},
   "source": [
    "Repozitorij naloge: https://github.com/j-gavran/PSUF_Hmumu"
   ]
  },
  {
   "cell_type": "markdown",
   "id": "a11eaa56-03a6-43bc-b461-0bc420ccbe49",
   "metadata": {},
   "source": [
    "## 1. naloga: Praktikum strojnega učenja v fiziki 2024/25"
   ]
  },
  {
   "cell_type": "markdown",
   "id": "bc6f9182-a383-40f4-8297-2cd7121cb9e8",
   "metadata": {},
   "source": [
    "**predavatelj**: [prof. dr. Borut Paul Kerševan](mailto:borut.kersevan@ijs.si)  \n",
    "**asistent**: [Jan Gavranovič](mailto:jan.gavranovic@ijs.si)"
   ]
  },
  {
   "cell_type": "code",
   "execution_count": null,
   "id": "014ba479-6ec9-41c6-9b65-de0423f4730a",
   "metadata": {},
   "outputs": [],
   "source": []
  }
 ],
 "metadata": {
  "kernelspec": {
   "display_name": "Python 3 (ipykernel)",
   "language": "python",
   "name": "python3"
  },
  "language_info": {
   "codemirror_mode": {
    "name": "ipython",
    "version": 3
   },
   "file_extension": ".py",
   "mimetype": "text/x-python",
   "name": "python",
   "nbconvert_exporter": "python",
   "pygments_lexer": "ipython3",
   "version": "3.12.4"
  }
 },
 "nbformat": 4,
 "nbformat_minor": 5
}
