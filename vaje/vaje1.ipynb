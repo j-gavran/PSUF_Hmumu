{
 "cells": [
  {
   "cell_type": "markdown",
   "id": "639454a0-f74b-438d-95a7-a05f30011aeb",
   "metadata": {
    "jp-MarkdownHeadingCollapsed": true
   },
   "source": [
    "# Modeliranje 1-D porazdelitve: razpadi Higgsovega bozona"
   ]
  },
  {
   "cell_type": "markdown",
   "id": "d0ecaed9-f6c3-4741-b332-fce04e3d2fb4",
   "metadata": {},
   "source": [
    "Repozitorij naloge: https://github.com/j-gavran/PSUF_Hmumu"
   ]
  },
  {
   "cell_type": "markdown",
   "id": "175987c5-6b3c-4c14-af0c-c12fc0e58d5f",
   "metadata": {},
   "source": [
    "## 1. naloga: Praktikum strojnega učenja v fiziki 2024/25\n"
   ]
  },
  {
   "cell_type": "markdown",
   "id": "be432c18-236a-4cee-a55b-3abcda7d6039",
   "metadata": {},
   "source": [
    "**predavatelj**: [prof. dr. Borut Paul Kerševan](mailto:borut.kersevan@ijs.si)  \n",
    "**asistent**: [Jan Gavranovič](mailto:jan.gavranovic@ijs.si)"
   ]
  },
  {
   "cell_type": "markdown",
   "id": "5089ff53-b21f-44c4-861d-f33a2dc5cdac",
   "metadata": {},
   "source": [
    "# Kratek fizikalni uvod"
   ]
  },
  {
   "cell_type": "markdown",
   "id": "4e660a7b-8b60-4954-bdf7-1f9d284e6c84",
   "metadata": {},
   "source": [
    "- Kolaboracije na LHC se posvečajo iskanju nove fizike in natačnim meritvam napovedi Standardnega Modela (SM).\n",
    "- Odkritje Higgsovega bozona leta 2012."
   ]
  },
  {
   "cell_type": "markdown",
   "id": "4436e7eb-9cc8-4209-8fed-a9cd774de062",
   "metadata": {},
   "source": [
    "![1](images/Higgs-production_decay.png)"
   ]
  },
  {
   "cell_type": "markdown",
   "id": "467a18f6-a0ed-4ce6-802b-470dad635793",
   "metadata": {},
   "source": [
    "### Primerjava simulacije z meritvami\n",
    "\n",
    "- Modelska (teoretična/napovedana) porazdelitev je pridobljena z MC simulacijami.  \n",
    "- Primerjava modelske (MC) in izmerjene (data) porazdelitve $\\Rightarrow$ odstopanje med obema lahko pomeni nekaj novega (npr. odkritje Higgsovega bozona).\n",
    "- V MC lahko ločimo signal (zanimivi, a redki procesi) in ozadje (znane in izmerjene interakcije).  \n",
    " \n",
    "![](images/Higgs4l.gif)"
   ]
  },
  {
   "cell_type": "markdown",
   "id": "45182133-9752-41d4-b633-8d672adf060f",
   "metadata": {},
   "source": [
    "### Porazdelitev ozadja in fitanje"
   ]
  },
  {
   "cell_type": "markdown",
   "id": "555ffa93-d455-4d78-8ec2-c28e2a672cc5",
   "metadata": {},
   "source": [
    "- Za primerjavo z meritvami je potrebno poznati oblike napovedanih porazdelitev.\n",
    "- Pri končnem opisu procesov si pomagamo z regresijo (fitom/parametrizacijo) kinematičnih porazdelitev.\n",
    "- Popravimo/zgladimo simulacijo za najboljše ujemanje.  \n",
    "- Primer: prilagajanja ozadja/signala pri mertivi $H\\rightarrow \\gamma\\gamma$\n",
    "\n",
    "![](images/HiggsGammaGamma.gif)"
   ]
  },
  {
   "cell_type": "markdown",
   "id": "1b7eb496-3dfa-4ef8-b667-c1a985cda7c8",
   "metadata": {},
   "source": [
    "### Naša vaja: $H \\rightarrow \\mu\\mu$\n",
    "\n",
    "- Porazdelitev invariantne mase dveh mionov, ki nastaneta pri razpadu Higgsovega bozona.  \n",
    "- Particle Data Group (PDG): https://pdglive.lbl.gov/DataBlock.action?node=S126SMU.  \n",
    "- V nalogi bomo obravnavali (poenostavljeno) meritev eksperimenta ATLAS.  \n",
    "- Ogledali si bomo kinematično porazdelitev dogodkov po rekonstruirani invariantni masi dveh izbranih mionov:  \n",
    "\n",
    "$$\n",
    "m_H = m_{\\mu\\mu} = \\sqrt{(E_{\\mu^+} + E_{\\mu^-})^2 - |\\vec{p}_{\\mu^+} + \\vec{p}_{\\mu^-}|^2} \n",
    "$$\n",
    "\n",
    "- Iskanje signala v ogromnih količinah podatkov je velik izziv.\n",
    "- Uporaba najnaprednejših računskih metod za ločevanje procesov signala od ozadja. \n",
    "\n",
    "#### ATLAS meritev\n",
    "![2](images/mmumu_atlas.png)\n",
    "\n",
    "#### CMS meritev\n",
    "![3](images/mmumu_cms.png)"
   ]
  },
  {
   "cell_type": "markdown",
   "id": "ea9a9b05-6c8a-4a1a-b477-c025b8848a7a",
   "metadata": {},
   "source": [
    "# Tehnične podrobnosti za izvedbo vaje"
   ]
  },
  {
   "cell_type": "markdown",
   "id": "938818bb-dcc1-44a2-8dc1-1d34eb96e70e",
   "metadata": {},
   "source": [
    "- Vse informacije so dostopne [tukaj](https://github.com/j-gavran/PSUF_Hmumu?tab=readme-ov-file#prakti%C4%8Dni-napotki).\n",
    "- Na vajah bomo uporabljali operacijski sistem Linux (npr. [Ubuntu](https://ubuntu.com/desktop)).\n",
    "- Za Windows je priporočljiva uporaba [Windows Subsystem for Linux](https://docs.microsoft.com/en-us/windows/wsl/install-win10) (WSL), ki vam da dostop do Linux okolja na enostaven način."
   ]
  },
  {
   "cell_type": "markdown",
   "id": "1619d132-f15f-4ff3-bc27-18e95dd66af1",
   "metadata": {},
   "source": [
    "## Python\n",
    "\n",
    "- Za tiste, ki še niste vešči programskega jezika Python, je prva naloga idealna priložnost, da se ga naučite.\n",
    "- Seveda lahko rešujete nalogo kakor želite, glede tega ni omejitev.\n",
    "- Imate različno predznanje, nekateri ste imeli Mafijski praktikum, Modelsko analizo, nekateri nič.\n",
    "    - *Za tiste z manj predznanja*: cilj prve naloge je, da se spoznate z jezikom Python, do naslednjega tedna\n",
    "spoznate klasične fite, uporabo knjižnic *numpy*, *pandas*, *scipy*, *scikit-learn* in *matplotlib*.\n",
    "    - *Za tiste z več predznanja*: ni omejitev navzgor, na učilnici je dostopna literatura do parih dodatnih algoritmov, lahko delate že naprej."
   ]
  },
  {
   "cell_type": "markdown",
   "id": "2078e164-13f3-43ef-a30d-c126b2df80f1",
   "metadata": {},
   "source": [
    "<div>\n",
    "    <img src=\"images/python.jpg\" width=\"700\"/>\n",
    "</div>"
   ]
  },
  {
   "cell_type": "markdown",
   "id": "b280d4bb-44f9-4cbf-acc7-37aaa9bf6653",
   "metadata": {},
   "source": [
    "## Urejevalniki kode\n",
    "\n",
    "- Urejevalnik vam je lahko v veliko pomoč, če ga znate uporabljati!\n",
    "- Priporočam uporabo [VSCode](https://code.visualstudio.com/) (za uporabo glej npr. [tutorial](https://pycon.switowski.com/)).\n",
    "- Vaje bodo v [jupyter notebook-u](https://jupyter.org/), ki omogoča interaktivno delo.\n",
    "\n",
    "<div>\n",
    "    <img src=\"images/real_programmers_xkcd.png\" width=\"900\"/>\n",
    "</div>\n",
    "\n",
    "[https://xkcd.com/378/](https://xkcd.com/378/)"
   ]
  },
  {
   "cell_type": "markdown",
   "id": "9645934b-2173-43d0-a179-25d50a51ad93",
   "metadata": {},
   "source": [
    "## Namestitev knjižnic\n",
    "\n",
    "- Ideja virtualnega okolja je, da se izolira okolje, v katerem se izvajajo programi, od okolja, ki je na računalniku.\n",
    "- Tako se lahko v tem \"virtualnem\" okolju namesti samo tiste knjižnice, ki so potrebne za izvajanje določenih programov.\n",
    "\n",
    "Virtualno okolje se naloži preko pip-a:\n",
    "```shell\n",
    "pip install pip --upgrade\n",
    "pip install virtualenv\n",
    "```\n",
    "\n",
    "in se ga postavi z ukazom:\n",
    "```shell\n",
    "python -m venv psuf-venv\n",
    "```\n",
    "\n",
    "kjer `psuf-venv` predstavlja ime virtualnega okolja. To okolje se aktivira z ukazom:\n",
    "```shell\n",
    "source ./psuf-venv/bin/activate\n",
    "```\n",
    "\n",
    "Za izhod iz okolja se uporabi ukaz:\n",
    "```shell\n",
    "deactivate\n",
    "```\n",
    "\n",
    "V virtualnem okolju se namestijo knjižnice, ki so potrebne za izvajanje programa. Vse potrebne knjižnice se namestijo z ukazom:\n",
    "\n",
    "```shell\n",
    "pip install -r requirements.txt\n",
    "```"
   ]
  },
  {
   "cell_type": "markdown",
   "id": "caa4a317-c752-43f8-a2de-e085e41d6e06",
   "metadata": {},
   "source": [
    "## Pridobitev kode iz repozitorija\n",
    "- Če še ne znate uporabljati git-a, se to naučite čim prej!\n",
    "- Vsa koda je na Github-u, dobite jo z ukazom:\n",
    "    \n",
    "    ```shell\n",
    "    git clone https://github.com/j-gavran/PSUF_Hmumu.git\n",
    "    ```  "
   ]
  },
  {
   "cell_type": "markdown",
   "id": "2527b2ff-b9f2-4f43-8a8e-001eabd51961",
   "metadata": {},
   "source": [
    "## Računanje na daljavo\n",
    "- Uporabljate lahko računalnik MARVIN na FMF, na katerem lahko poganjate vaše domače naloge.\n",
    "- Dostopen je preko ssh:\n",
    "    - uporabniki Linux-ov, macOS dostopate preko terminala z `ssh <username>@marvin.fmf.uni-lj.si`\n",
    "    - uporabniki Windows-ov:\n",
    "        - preko terminala, če imate naložen ssh client\n",
    "        -  Preprosteje: Naložite si [MobaXterm](https://mobaxterm.mobatek.net/)\n",
    "    - z VSCode lahko dostopate preko [Remote - SSH](https://marketplace.visualstudio.com/items?itemName=ms-vscode-remote.remote-ssh) extensiona"
   ]
  },
  {
   "cell_type": "markdown",
   "id": "3cc0246b-c469-4fb3-872c-6e787ade21c4",
   "metadata": {},
   "source": [
    "# Reševanje naloge"
   ]
  },
  {
   "cell_type": "markdown",
   "id": "f33b0e8a-2332-4172-b387-d007fecfb408",
   "metadata": {},
   "source": [
    "## Kako do podatkov?\n",
    "- Predprocesirane podatke/histograme za reševanje naloge dobite:\n",
    "    - Spletna učilnica,\n",
    "    - [CERNBox](https://cernbox.cern.ch/index.php/s/rd9b2rjzYxQ6jC2) (~ 7 GB):  \n",
    "        - `mc_bkg_new.h5`,\n",
    "        - `mc_sig.h5`,\n",
    "        - `data.h5`.\n",
    "    - Marvin: `/data/PSUF_naloge/1-naloga/DATA/`\n",
    "    - Naloži vam jih lahko tudi `create_histograms`."
   ]
  },
  {
   "cell_type": "markdown",
   "id": "51fa694f-9ab8-49f3-82d1-59bfc3ef6d5d",
   "metadata": {},
   "source": [
    "<div>\n",
    "    <img src=\"images/data_trap.png\" width=\"500\"/>\n",
    "</div>\n",
    "\n",
    "[https://xkcd.com/2582/](https://xkcd.com/2582/)"
   ]
  },
  {
   "cell_type": "markdown",
   "id": "a4065fc4-dfe7-429c-afc9-eacc3d9fe768",
   "metadata": {},
   "source": [
    "## Kako narediti svoje histograme?"
   ]
  },
  {
   "cell_type": "markdown",
   "id": "5d26943b-ac8b-4c73-8029-f463e146db4b",
   "metadata": {},
   "source": [
    "- Generacija svojih histogramov ni nujna (je pa dobrodošla) - imate že nekaj narejenih histogramov v območjih:\n",
    "    - celotno kinematično območje,\n",
    "    - $Z$ vrh,\n",
    "    - interval okrog Higgsovega bozona.\n",
    "- Najdete jih v `data/original_histograms/*.npz`.\n",
    "- Uporabna knjižnica za delo s histogrami v Pythonu je tudi: https://hist.readthedocs.io/en/latest/."
   ]
  },
  {
   "cell_type": "code",
   "execution_count": 1,
   "id": "26179a09-6785-4527-b7eb-e110ca0c6848",
   "metadata": {},
   "outputs": [
    {
     "name": "stdout",
     "output_type": "stream",
     "text": [
      "/data0/jang/PSUF/PSUF_Hmumu\n"
     ]
    }
   ],
   "source": [
    "%cd .."
   ]
  },
  {
   "cell_type": "code",
   "execution_count": 2,
   "id": "91daf864-4f5d-45d4-8fc4-da25f4016b60",
   "metadata": {},
   "outputs": [],
   "source": [
    "# python imports\n",
    "import os\n",
    "import glob\n",
    "\n",
    "# library imports\n",
    "import numpy as np\n",
    "import matplotlib.pyplot as plt\n",
    "\n",
    "# helper imports\n",
    "from helpers.create_histograms import url_download, make_histograms"
   ]
  },
  {
   "cell_type": "markdown",
   "id": "d0317595-4b83-4c65-b5d6-c615bc8f1548",
   "metadata": {},
   "source": [
    "- Podatki so v formatu `.h5`, ki ga lahko berete s knjižnico `pandas`.\n",
    "- `create_histograms` zgenerira `.npz` datoteke histogramov, ki jih lahko berete z `numpy`-jem."
   ]
  },
  {
   "cell_type": "code",
   "execution_count": 3,
   "id": "e64b5906-a346-4dce-88a6-22bb2a7e75d5",
   "metadata": {},
   "outputs": [],
   "source": [
    "datadir_input = \"data/raw_data/\"  # directory to raw data\n",
    "datadir_output = \"data/generated_histograms/\"  # directory to generated histograms\n",
    "\n",
    "# create directories if they don't exist\n",
    "os.makedirs(datadir_input, exist_ok=True)\n",
    "os.makedirs(datadir_output, exist_ok=True)"
   ]
  },
  {
   "cell_type": "code",
   "execution_count": 4,
   "id": "c04c13a6-8590-4aa2-b4dc-8ce9d5c177ef",
   "metadata": {},
   "outputs": [
    {
     "name": "stdout",
     "output_type": "stream",
     "text": [
      "already downloaded data/raw_data/mc_bkg_new.h5!\n",
      "already downloaded data/raw_data/mc_sig.h5!\n",
      "already downloaded data/raw_data/data.h5!\n"
     ]
    }
   ],
   "source": [
    "# download files locally\n",
    "_ = url_download(\"https://cernbox.cern.ch/remote.php/dav/public-files/rd9b2rjzYxQ6jC2/mc_bkg_new.h5\", datadir_input)\n",
    "_ = url_download(\"https://cernbox.cern.ch/remote.php/dav/public-files/rd9b2rjzYxQ6jC2/mc_sig.h5\", datadir_input)\n",
    "_ = url_download(\"https://cernbox.cern.ch/remote.php/dav/public-files/rd9b2rjzYxQ6jC2/data.h5\", datadir_input)"
   ]
  },
  {
   "cell_type": "code",
   "execution_count": 5,
   "id": "5af55289-35e2-4a83-8b0c-04c528f78481",
   "metadata": {},
   "outputs": [],
   "source": [
    "# m_mumu energy interval (110.,160.) GeV for Higgs\n",
    "x_range = (110, 160) # change this!\n",
    "\n",
    "# if n_bins is an int, it defines the number of equal-width bins in the given range\n",
    "# if n_bins is a sequence, it defines a monotonically increasing array of bin edges, allowing for non-uniform bin widths\n",
    "n_bins = 60 # change this!\n",
    "\n",
    "# filenames of downloaded input .h5 files\n",
    "dataset_names = [\"mc_bkg_new\", \"mc_sig\", \"data\"]\n",
    "\n",
    "# labels for file content\n",
    "labels = [\"Background\", \"Signal\", \"Data\"]\n",
    "\n",
    "# name of the saved histograms\n",
    "save_hist_name = \"my_hist\"\n",
    "\n",
    "# dictionary from labels to file names\n",
    "hists_files = {label: f\"{datadir_output}{save_hist_name}_{label}.npz\" for label in labels}\n",
    "\n",
    "# check if all histograms already exist\n",
    "already_exists = all([os.path.isfile(f) for f in hists_files.values()])\n",
    "\n",
    "# if not all histogram .npz files found, make all of them again\n",
    "if not already_exists:\n",
    "    dirs = make_histograms(\n",
    "        datadir_input,\n",
    "        datadir_output,\n",
    "        labels,\n",
    "        dataset_names,\n",
    "        n_bins,\n",
    "        x_range=x_range,\n",
    "        save_hist_name=save_hist_name,\n",
    "    )"
   ]
  },
  {
   "cell_type": "code",
   "execution_count": 6,
   "id": "bd6e3b38-19d2-4099-95b9-26548fcd0cb8",
   "metadata": {},
   "outputs": [
    {
     "data": {
      "text/plain": [
       "{'Background': 'data/generated_histograms/my_hist_Background.npz',\n",
       " 'Signal': 'data/generated_histograms/my_hist_Signal.npz',\n",
       " 'Data': 'data/generated_histograms/my_hist_Data.npz'}"
      ]
     },
     "execution_count": 6,
     "metadata": {},
     "output_type": "execute_result"
    }
   ],
   "source": [
    "hists_files"
   ]
  },
  {
   "cell_type": "markdown",
   "id": "18664b9b-20ae-4c4c-97b6-76b46b5a7b46",
   "metadata": {},
   "source": [
    "## Kako prebrati histograme?"
   ]
  },
  {
   "cell_type": "markdown",
   "id": "f434c9b2-2f1f-4274-98d0-53b04d8e2f9d",
   "metadata": {},
   "source": [
    "- Potrebovali bomo:\n",
    "    - `bin_edges`: robne $x$ vrednosti binov,\n",
    "    - `bin_centers`: centralne $x$ vrednosti binov,\n",
    "    - `bin_values`: število dogodkov za posamični bin,\n",
    "    - `bin_errors`: pravilne napake za posamični bin.\n",
    "- Napaka na binih za simulirano ozadje in signal je že določena: $\\sigma^2_k = \\sum_{x_i \\in k} w_i^2$.\n",
    "- Napaka na binih podatkov je Poissonska: $\\sigma_k^2 = \\sqrt{N_k}$.\n",
    "- Pri delu se namenoma zmoti, preveri učinek Poissonske in konstantne napake na simuliranem ozadju in signalu."
   ]
  },
  {
   "cell_type": "code",
   "execution_count": 7,
   "id": "336419ed-8184-4eec-bda8-549f69aeb9e3",
   "metadata": {},
   "outputs": [],
   "source": [
    "def load_histogram(hist_file):\n",
    "    with np.load(hist_file, \"rb\") as data:\n",
    "        bin_edges = data[\"bin_edges\"]\n",
    "        bin_centers = data[\"bin_centers\"]\n",
    "        bin_values = data[\"bin_values\"]\n",
    "        bin_errors = data[\"bin_errors\"]\n",
    "    \n",
    "    return {\"centers\": bin_centers, \"edges\": bin_edges, \"values\": bin_values, \"errors\": bin_errors}"
   ]
  },
  {
   "cell_type": "code",
   "execution_count": 8,
   "id": "6863bd1b-bcea-425b-ac75-bcd418bc3c76",
   "metadata": {},
   "outputs": [],
   "source": [
    "hists = {}\n",
    "\n",
    "for hist_label, hist_file in hists_files.items():\n",
    "    hists[hist_label] = load_histogram(hist_file)"
   ]
  },
  {
   "cell_type": "code",
   "execution_count": 9,
   "id": "0022ce91-b388-4074-ad75-7f6663cf6d46",
   "metadata": {},
   "outputs": [
    {
     "data": {
      "text/plain": [
       "(dict_keys(['Background', 'Signal', 'Data']),\n",
       " dict_keys(['centers', 'edges', 'values', 'errors']))"
      ]
     },
     "execution_count": 9,
     "metadata": {},
     "output_type": "execute_result"
    }
   ],
   "source": [
    "# we can now access histogram contents with label key and one of the histogram data keys\n",
    "hists.keys(), hists[\"Background\"].keys()"
   ]
  },
  {
   "cell_type": "markdown",
   "id": "6f0f5d8e-d49b-4f17-b406-ec00243a4e0d",
   "metadata": {},
   "source": [
    "## Kako narisati histograme?\n",
    "- Naučite se narisati lepe grafe:\n",
    "    - font, size, colors, labels, latex formatting, pdf format, legend, ...\n",
    "- Spodnji graf je zelo osnoven z nekaj vrsticami kode.\n",
    "- Uporabiš lahko tudi že napisano funkcijo `visualize_histograms`.\n",
    "- Nekatere dodatne uporabne knjižnice za risanje:\n",
    "    - [seaborn](https://seaborn.pydata.org/),\n",
    "    - [plotly](https://github.com/plotly/plotly.py),\n",
    "    - [altair](https://altair-viz.github.io/),\n",
    "    - [mplhep](https://github.com/scikit-hep/mplhep),\n",
    "    - [plothist](https://github.com/cyrraz/plothist)."
   ]
  },
  {
   "cell_type": "code",
   "execution_count": 10,
   "id": "11455c48-bf65-4f9e-832a-224d340d40ad",
   "metadata": {},
   "outputs": [],
   "source": [
    "def plot_simple_histogram(ax, x, y, edges, **kwargs):\n",
    "    ax.hist(x, edges, weights=y, histtype=\"step\", **kwargs)\n",
    "    return ax"
   ]
  },
  {
   "cell_type": "code",
   "execution_count": 11,
   "id": "d9a81e11-15c6-4593-9440-7181355030a1",
   "metadata": {},
   "outputs": [
    {
     "data": {
      "image/png": "[encoded data removed]",
      "text/plain": [
       "<Figure size 800x700 with 1 Axes>"
      ]
     },
     "metadata": {},
     "output_type": "display_data"
    }
   ],
   "source": [
    "# drawing a simple histogram\n",
    "fig, ax = plt.subplots(figsize=(8, 7))\n",
    "\n",
    "for label, hist in hists.items():\n",
    "    plot_simple_histogram(ax, hist[\"centers\"], hist[\"values\"], hist[\"edges\"], lw=2, label=label)\n",
    "\n",
    "ax.set_xlabel(r\"$m_{\\mu\\mu}$ [GeV]\", fontsize=20)\n",
    "ax.set_ylabel(\"$N$\", fontsize=20)\n",
    "\n",
    "ax.legend(fontsize=15)\n",
    "ax.set_yscale(\"log\")"
   ]
  },
  {
   "cell_type": "code",
   "execution_count": 12,
   "id": "3099bb12-5f3e-4f26-95db-c53e5d6dde5c",
   "metadata": {},
   "outputs": [],
   "source": [
    "def plot_errorbar(ax, x, y, xerr, yerr, **kwargs):\n",
    "    ax.errorbar(\n",
    "        x=x,\n",
    "        y=y,\n",
    "        xerr=np.diff(xerr) / 2,\n",
    "        yerr=yerr,\n",
    "        markersize=4,\n",
    "        linestyle=\"None\",\n",
    "        marker=\"o\",\n",
    "        **kwargs,\n",
    "    )\n",
    "    return ax"
   ]
  },
  {
   "cell_type": "code",
   "execution_count": 13,
   "id": "96e3b404-7490-43bb-9d3d-b8da0fc40611",
   "metadata": {},
   "outputs": [
    {
     "data": {
      "image/png": "[encoded data removed]",
      "text/plain": [
       "<Figure size 800x700 with 1 Axes>"
      ]
     },
     "metadata": {},
     "output_type": "display_data"
    }
   ],
   "source": [
    "# drawing errors\n",
    "fig, ax = plt.subplots(figsize=(8, 7))\n",
    "\n",
    "for label, hist in hists.items():\n",
    "    plot_errorbar(ax, hist[\"centers\"], hist[\"values\"], hist[\"edges\"], hist[\"errors\"], lw=2, label=label)\n",
    "\n",
    "ax.set_xlabel(r\"$m_{\\mu\\mu}$ [GeV]\", fontsize=20)\n",
    "ax.set_ylabel(\"$N$\", fontsize=20)\n",
    "\n",
    "ax.legend(fontsize=15)\n",
    "ax.set_yscale(\"log\")"
   ]
  },
  {
   "cell_type": "code",
   "execution_count": 14,
   "id": "0675af36-10a5-45c4-8e02-e9d1cb0565b3",
   "metadata": {},
   "outputs": [
    {
     "data": {
      "image/png": "[encoded data removed]",
      "text/plain": [
       "<Figure size 600x600 with 2 Axes>"
      ]
     },
     "metadata": {},
     "output_type": "display_data"
    }
   ],
   "source": [
    "# using helpers\n",
    "from helpers.visualize_data import visualize_histograms\n",
    "\n",
    "visualize_histograms(hists.keys(), save_hist_name, \"data/generated_histograms/\", output_filename=None, save=False)\n",
    "plt.tight_layout()"
   ]
  },
  {
   "cell_type": "markdown",
   "id": "f8d580fe-41fa-421a-ad73-617d87961d91",
   "metadata": {},
   "source": [
    "- Zgoraj: simuliran signal, simulirano ozadje in zajete podake.\n",
    "- Spodaj: razmerje med zajetimi podatki in simuliranim ozadjem."
   ]
  },
  {
   "cell_type": "markdown",
   "id": "2cbc5e20-a082-4823-93fa-d99a8fee1dd6",
   "metadata": {},
   "source": [
    "## Modeliranje ozadja\n",
    "\n",
    "- Razmerje signal/ozadje je $\\sim$ 0.2\\% v ombočju $m_{\\mu\\mu}\\in[120, 130]$ GeV $\\Rightarrow$ potrebujemo dober opis ozadja za razločevanje med procesi.\n",
    "- Glavni proces ozadja je razpad $Z\\rightarrow\\mu^+\\mu^-$ (Drell-Yan), ki prispeva resonančno porazdelitev z vrhom pri $m_Z=91.2$ GeV.\n",
    "- Tudi veliko drugih procesov ozadja (npr. tvorba in razpad $ZZ, WW \\text{ in } WZ$, $t\\bar{t}$ nastanek, ...)"
   ]
  },
  {
   "cell_type": "markdown",
   "id": "6970ffa2-a877-442f-b793-2fa93f547679",
   "metadata": {},
   "source": [
    "- Na voljo imamo več metod za ustrezno določitev simulacije ozadja:\n",
    "    - uteževanje s polinomi nizke stopnje,\n",
    "    - teoretično motivirani nastavki za modeliranje oblike porazdelitve,\n",
    "    - uporaba SVM metod z različnimi jedri in regularizatorji,\n",
    "    - uporaba metod strojnega učenja (npr. GPR),\n",
    "    - dekompozicija na ortogonalne polinome."
   ]
  },
  {
   "cell_type": "markdown",
   "id": "23d4bd75-8c9e-4f34-8fc9-285ea600d2d5",
   "metadata": {},
   "source": [
    "### Glajenje ozadja s funkcijskimi nastavki\n",
    "\n",
    "- Glajenja ozadja (smoothing) na intervalu 110 GeV naprej, preveri različne funkcije:\n",
    "    - polinomi: $f(m)=a_1 + a_2m + a_3m^2 + \\ldots$,\n",
    "    - potenčne funkcije: $f(m)=am^b$,\n",
    "    - eksponentne funkcije: $f(m)=a_1 e^{-b_1m} + a_2 e^{-b_2m} + \\ldots$,\n",
    "    - dijet funkcija: $f(m)=a (1-m^d)^c m^{b_1 + b_2 \\log m + b_3 \\log m^2 + \\ldots}$,\n",
    "    - eksponent polinoma: $f(m)=a e^{b_1 m + b_2 m^2 + \\ldots}$.\n",
    "- Za fitanje bomo uporabili `curve_fit`"
   ]
  },
  {
   "cell_type": "code",
   "execution_count": 15,
   "id": "8ffc518e-69b2-443e-a385-dcabf42ac358",
   "metadata": {},
   "outputs": [],
   "source": [
    "from scipy.optimize import curve_fit"
   ]
  },
  {
   "cell_type": "code",
   "execution_count": null,
   "id": "d7dfbd10-2fd2-433c-afb1-3b00f13a6080",
   "metadata": {},
   "outputs": [],
   "source": []
  },
  {
   "cell_type": "markdown",
   "id": "5f7669f6-eaf8-4c59-8bfc-3dc2479cf4b2",
   "metadata": {},
   "source": [
    "### Teoretično motivirani nastavki"
   ]
  },
  {
   "cell_type": "code",
   "execution_count": null,
   "id": "1ddfdf89-7ed9-4143-ba68-55a6890cb86f",
   "metadata": {},
   "outputs": [],
   "source": []
  },
  {
   "cell_type": "code",
   "execution_count": null,
   "id": "20e555e8-9195-441f-9f42-6e9929464c6e",
   "metadata": {},
   "outputs": [],
   "source": []
  },
  {
   "cell_type": "markdown",
   "id": "abd36d54-4253-4bf0-975b-c36e3c00649f",
   "metadata": {},
   "source": [
    "## Modeliranje signala"
   ]
  },
  {
   "cell_type": "code",
   "execution_count": null,
   "id": "8856babe-9312-42cc-ae0f-6b1fc26203b9",
   "metadata": {},
   "outputs": [],
   "source": []
  },
  {
   "cell_type": "code",
   "execution_count": null,
   "id": "e20d81d6-a198-40ad-b766-0597b59ffa3c",
   "metadata": {},
   "outputs": [],
   "source": []
  },
  {
   "cell_type": "markdown",
   "id": "8366bf83-37d3-4352-9ba1-6b6b2ace8b21",
   "metadata": {},
   "source": [
    "### Parametrizacija signala s CB funkcijo"
   ]
  },
  {
   "cell_type": "code",
   "execution_count": null,
   "id": "89788d50-e9db-4218-b00f-a697f75e9b00",
   "metadata": {},
   "outputs": [],
   "source": []
  },
  {
   "cell_type": "code",
   "execution_count": null,
   "id": "f7ed1981-78b1-4331-aedf-f4789a8b7e50",
   "metadata": {},
   "outputs": [],
   "source": []
  },
  {
   "cell_type": "markdown",
   "id": "20ea2a19-4565-403d-bf92-13a1d3427a3d",
   "metadata": {},
   "source": [
    "# Priprava poročila"
   ]
  },
  {
   "cell_type": "markdown",
   "id": "0f47c288-683a-4668-9db8-c2071269c834",
   "metadata": {},
   "source": [
    "### Kako naj izgleda poročilo?\n",
    "\n",
    "- Podobno kot modelska analiza in mafijski praktikum.\n",
    "- Na nekaj straneh opišeš potek vaje in predstaviš rezultate, zanimive probleme in rešitve.\n",
    "- Okvirno se držite navodil (točke 1-9).\n",
    "- Cilj naloge je, da ste sami čim bolj inovativni:\n",
    "    - preizkušate čim več načinov kako priti do rezultata,\n",
    "    - ni tako pomembno, kakšni so rezultati,\n",
    "    - štejejo vztrajnost in dobre ideje.\n",
    "- Možnosti za analizo je ogromno, ocenite kaj se vam zdi smiselno preveriti in vključiti.\n",
    "- Baseline ocena je 8 (rešiš vse naloge iz navodil, večina stvari dela že out of the box), vse dodatno (razmisleki, ideje, inovativni grafi, še kakšna metoda, ...) je 9 in 10."
   ]
  },
  {
   "cell_type": "markdown",
   "id": "e95fc754-edb0-479d-b467-0bb4a8cb10cc",
   "metadata": {},
   "source": [
    "### Oddaja poročila\n",
    "\n",
    "- Rok za oddajo: petek ? do 10:00 zjutraj.\n",
    "- Obvezno: pdf format. \n",
    "- Ime datoteke: psuf_naloga1_Ime_Priimek.pdf.\n",
    "- Vsa uporabljena koda v zip formatu (brez grafov in latex file-ov, pdf poročila naj ne bo v zipu ampak zraven).\n",
    "- Zadeva: PSUF naloga 1 Ime Priimek na moj mail: jan.gavranovic@ijs.si."
   ]
  },
  {
   "cell_type": "markdown",
   "id": "7d02977c-7922-4b4c-9111-aefc7538c774",
   "metadata": {},
   "source": [
    "# Zaključek 1. vaj"
   ]
  },
  {
   "cell_type": "markdown",
   "id": "0281ab5a-80ca-4eed-bb8f-b7c357ef103e",
   "metadata": {},
   "source": [
    "- Splošna vprašanja $\\Rightarrow$ učilnica (mogoče ima še kdo enake težave) - spodbujamo pomaganje!\n",
    "- Za ostala vprašanja me dobite na jan.gavranovic@ijs.si.\n",
    "- Drugi del vaj prihodnji teden (v petek) $\\Rightarrow$ začnemo z naprednejšimi metodami.\n",
    "- Do takrat: *preberite navodila, postavite si Python okolje, preizkusite kako stvari delujejo, spoznajte se s podatki in kodo, narišite histograme, naredite fite za signal in ozadje*."
   ]
  },
  {
   "cell_type": "code",
   "execution_count": null,
   "id": "3e945a8d-10ab-4ef3-a14c-6a8e9a1376ed",
   "metadata": {},
   "outputs": [],
   "source": []
  }
 ],
 "metadata": {
  "kernelspec": {
   "display_name": "Python 3 (ipykernel)",
   "language": "python",
   "name": "python3"
  },
  "language_info": {
   "codemirror_mode": {
    "name": "ipython",
    "version": 3
   },
   "file_extension": ".py",
   "mimetype": "text/x-python",
   "name": "python",
   "nbconvert_exporter": "python",
   "pygments_lexer": "ipython3",
   "version": "3.12.4"
  }
 },
 "nbformat": 4,
 "nbformat_minor": 5
}
